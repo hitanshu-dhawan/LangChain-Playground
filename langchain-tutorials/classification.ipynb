{
  "cells": [
    {
      "cell_type": "markdown",
      "id": "a0507a4b",
      "metadata": {
        "id": "a0507a4b"
      },
      "source": [
        "# Classify Text into Labels\n",
        "\n",
        "Tagging means labeling a document with classes such as:\n",
        "\n",
        "- Sentiment\n",
        "- Language\n",
        "- Style (formal, informal etc.)\n",
        "- Covered topics\n",
        "- Political tendency\n",
        "\n",
        "![Image description](https://github.com/langchain-ai/langchain/blob/master/docs/static/img/tagging.png?raw=1)\n",
        "\n",
        "## Overview\n",
        "\n",
        "Tagging has a few components:\n",
        "\n",
        "* `function`: Like [extraction](/docs/tutorials/extraction), tagging uses [functions](https://openai.com/blog/function-calling-and-other-api-updates) to specify how the model should tag a document\n",
        "* `schema`: defines how we want to tag the document\n",
        "\n",
        "## Quickstart\n",
        "\n",
        "Let's see a very straightforward example of how we can use OpenAI tool calling for tagging in LangChain. We'll use the [`with_structured_output`](/docs/how_to/structured_output) method supported by OpenAI models."
      ]
    },
    {
      "cell_type": "code",
      "execution_count": null,
      "id": "dc5cbb6f",
      "metadata": {
        "id": "dc5cbb6f"
      },
      "outputs": [
        {
          "name": "stdout",
          "output_type": "stream",
          "text": [
            "Note: you may need to restart the kernel to use updated packages.\n"
          ]
        }
      ],
      "source": [
        "%pip install --upgrade --quiet langchain-core #--break-system-packages"
      ]
    },
    {
      "cell_type": "markdown",
      "id": "ddc0689e",
      "metadata": {},
      "source": [
        "### Load environment variables"
      ]
    },
    {
      "cell_type": "code",
      "execution_count": 29,
      "id": "658c587c",
      "metadata": {},
      "outputs": [
        {
          "data": {
            "text/plain": [
              "True"
            ]
          },
          "execution_count": 29,
          "metadata": {},
          "output_type": "execute_result"
        }
      ],
      "source": [
        "from dotenv import load_dotenv\n",
        "\n",
        "load_dotenv()"
      ]
    },
    {
      "cell_type": "markdown",
      "id": "cc2b7cdf-babb-46e2-98d0-302f69446842",
      "metadata": {
        "id": "cc2b7cdf-babb-46e2-98d0-302f69446842"
      },
      "source": [
        "We'll need to load a [chat model](/docs/integrations/chat/):"
      ]
    },
    {
      "cell_type": "code",
      "execution_count": 18,
      "id": "608ee181-3f06-4719-842d-9672fdce6e57",
      "metadata": {
        "id": "608ee181-3f06-4719-842d-9672fdce6e57"
      },
      "outputs": [],
      "source": [
        "from langchain_openai import ChatOpenAI\n",
        "\n",
        "llm = ChatOpenAI(model=\"gpt-5-nano\", temperature=1)"
      ]
    },
    {
      "cell_type": "markdown",
      "id": "b8ca3f93",
      "metadata": {
        "id": "b8ca3f93"
      },
      "source": [
        "Let's specify a Pydantic model with a few properties and their expected type in our schema."
      ]
    },
    {
      "cell_type": "code",
      "execution_count": 19,
      "id": "39f3ce3e",
      "metadata": {
        "id": "39f3ce3e"
      },
      "outputs": [],
      "source": [
        "from langchain_core.prompts import ChatPromptTemplate\n",
        "from langchain_openai import ChatOpenAI\n",
        "from pydantic import BaseModel, Field\n",
        "\n",
        "tagging_prompt = ChatPromptTemplate.from_template(\n",
        "    \"\"\"\n",
        "Extract the desired information from the following passage.\n",
        "\n",
        "Only extract the properties mentioned in the 'Classification' function.\n",
        "\n",
        "Passage:\n",
        "{input}\n",
        "\"\"\"\n",
        ")\n",
        "\n",
        "\n",
        "class Classification(BaseModel):\n",
        "    sentiment: str = Field(description=\"The sentiment of the text\")\n",
        "    aggressiveness: int = Field(\n",
        "        description=\"How aggressive the text is on a scale from 1 to 10\"\n",
        "    )\n",
        "    language: str = Field(description=\"The language the text is written in\")\n",
        "\n",
        "\n",
        "# Structured LLM\n",
        "structured_llm = llm.with_structured_output(Classification)"
      ]
    },
    {
      "cell_type": "code",
      "execution_count": 10,
      "id": "5509b6a6",
      "metadata": {
        "id": "5509b6a6",
        "outputId": "5ca508eb-9506-452e-dc8e-8979f64446da"
      },
      "outputs": [
        {
          "data": {
            "text/plain": [
              "Classification(sentiment='positive', aggressiveness=1, language='Spanish')"
            ]
          },
          "execution_count": 10,
          "metadata": {},
          "output_type": "execute_result"
        }
      ],
      "source": [
        "inp = \"Estoy increiblemente contento de haberte conocido! Creo que seremos muy buenos amigos!\"\n",
        "prompt = tagging_prompt.invoke({\"input\": inp})\n",
        "response = structured_llm.invoke(prompt)\n",
        "\n",
        "response"
      ]
    },
    {
      "cell_type": "markdown",
      "id": "ff3cf30d",
      "metadata": {
        "id": "ff3cf30d"
      },
      "source": [
        "If we want dictionary output, we can just call `.model_dump()`"
      ]
    },
    {
      "cell_type": "code",
      "execution_count": 11,
      "id": "9154474c",
      "metadata": {
        "id": "9154474c",
        "outputId": "4283177e-19df-41d2-a1ac-83fbb8366e99"
      },
      "outputs": [
        {
          "data": {
            "text/plain": [
              "{'sentiment': 'negative', 'aggressiveness': 9, 'language': 'Spanish'}"
            ]
          },
          "execution_count": 11,
          "metadata": {},
          "output_type": "execute_result"
        }
      ],
      "source": [
        "inp = \"Estoy muy enojado con vos! Te voy a dar tu merecido!\"\n",
        "prompt = tagging_prompt.invoke({\"input\": inp})\n",
        "response = structured_llm.invoke(prompt)\n",
        "\n",
        "response.model_dump()"
      ]
    },
    {
      "cell_type": "markdown",
      "id": "d921bb53",
      "metadata": {
        "id": "d921bb53"
      },
      "source": [
        "As we can see in the examples, it correctly interprets what we want.\n",
        "\n",
        "The results vary so that we may get, for example, sentiments in different languages ('positive', 'enojado' etc.).\n",
        "\n",
        "We will see how to control these results in the next section."
      ]
    },
    {
      "cell_type": "markdown",
      "id": "bebb2f83",
      "metadata": {
        "id": "bebb2f83"
      },
      "source": [
        "## Finer control\n",
        "\n",
        "Careful schema definition gives us more control over the model's output.\n",
        "\n",
        "Specifically, we can define:\n",
        "\n",
        "- Possible values for each property\n",
        "- Description to make sure that the model understands the property\n",
        "- Required properties to be returned"
      ]
    },
    {
      "cell_type": "markdown",
      "id": "69ef0b9a",
      "metadata": {
        "id": "69ef0b9a"
      },
      "source": [
        "Let's redeclare our Pydantic model to control for each of the previously mentioned aspects using enums:"
      ]
    },
    {
      "cell_type": "code",
      "execution_count": 20,
      "id": "6a5f7961",
      "metadata": {
        "id": "6a5f7961"
      },
      "outputs": [],
      "source": [
        "class Classification(BaseModel):\n",
        "    sentiment: str = Field(..., enum=[\"happy\", \"neutral\", \"sad\"])\n",
        "    aggressiveness: int = Field(\n",
        "        ...,\n",
        "        description=\"describes how aggressive the statement is, the higher the number the more aggressive\",\n",
        "        enum=[1, 2, 3, 4, 5],\n",
        "    )\n",
        "    language: str = Field(\n",
        "        ..., enum=[\"spanish\", \"english\", \"french\", \"german\", \"italian\"]\n",
        "    )"
      ]
    },
    {
      "cell_type": "code",
      "execution_count": 21,
      "id": "e5a5881f",
      "metadata": {
        "id": "e5a5881f"
      },
      "outputs": [],
      "source": [
        "tagging_prompt = ChatPromptTemplate.from_template(\n",
        "    \"\"\"\n",
        "Extract the desired information from the following passage.\n",
        "\n",
        "Only extract the properties mentioned in the 'Classification' function.\n",
        "\n",
        "Passage:\n",
        "{input}\n",
        "\"\"\"\n",
        ")\n",
        "\n",
        "llm = ChatOpenAI(model=\"gpt-5-nano\", temperature=1).with_structured_output(\n",
        "    Classification\n",
        ")"
      ]
    },
    {
      "cell_type": "markdown",
      "id": "5ded2332",
      "metadata": {
        "id": "5ded2332"
      },
      "source": [
        "Now the answers will be restricted in a way we expect!"
      ]
    },
    {
      "cell_type": "code",
      "execution_count": 22,
      "id": "d9b9d53d",
      "metadata": {
        "id": "d9b9d53d",
        "outputId": "4bc1f966-2d88-4d74-a63c-4d383050fe55"
      },
      "outputs": [
        {
          "data": {
            "text/plain": [
              "Classification(sentiment='happy', aggressiveness=1, language='spanish')"
            ]
          },
          "execution_count": 22,
          "metadata": {},
          "output_type": "execute_result"
        }
      ],
      "source": [
        "inp = \"Estoy increiblemente contento de haberte conocido! Creo que seremos muy buenos amigos!\"\n",
        "prompt = tagging_prompt.invoke({\"input\": inp})\n",
        "llm.invoke(prompt)"
      ]
    },
    {
      "cell_type": "code",
      "execution_count": 30,
      "id": "1c12fa00",
      "metadata": {
        "id": "1c12fa00",
        "outputId": "d21afa8b-b76f-4ec7-8597-d4c187160d2d"
      },
      "outputs": [
        {
          "data": {
            "text/plain": [
              "Classification(sentiment='sad', aggressiveness=5, language='spanish')"
            ]
          },
          "execution_count": 30,
          "metadata": {},
          "output_type": "execute_result"
        }
      ],
      "source": [
        "inp = \"Estoy muy enojado con vos! Te voy a dar tu merecido!\"\n",
        "prompt = tagging_prompt.invoke({\"input\": inp})\n",
        "llm.invoke(prompt)"
      ]
    },
    {
      "cell_type": "code",
      "execution_count": 24,
      "id": "0bdfcb05",
      "metadata": {
        "id": "0bdfcb05",
        "outputId": "eeccb987-1c9f-432b-bb66-287202fca6f2"
      },
      "outputs": [
        {
          "data": {
            "text/plain": [
              "Classification(sentiment='neutral', aggressiveness=1, language='english')"
            ]
          },
          "execution_count": 24,
          "metadata": {},
          "output_type": "execute_result"
        }
      ],
      "source": [
        "inp = \"Weather is ok here, I can go outside without much more than a coat\"\n",
        "prompt = tagging_prompt.invoke({\"input\": inp})\n",
        "llm.invoke(prompt)"
      ]
    },
    {
      "cell_type": "markdown",
      "id": "cf6b7389",
      "metadata": {
        "id": "cf6b7389"
      },
      "source": [
        "The [LangSmith trace](https://smith.langchain.com/public/38294e04-33d8-4c5a-ae92-c2fe68be8332/r) lets us peek under the hood:\n",
        "\n",
        "![Image description](https://github.com/langchain-ai/langchain/blob/master/docs/static/img/tagging_trace.png?raw=1)"
      ]
    },
    {
      "cell_type": "markdown",
      "id": "29346d09",
      "metadata": {
        "id": "29346d09"
      },
      "source": [
        "### Going deeper\n",
        "\n",
        "* You can use the [metadata tagger](/docs/integrations/document_transformers/openai_metadata_tagger) document transformer to extract metadata from a LangChain `Document`.\n",
        "* This covers the same basic functionality as the tagging chain, only applied to a LangChain `Document`."
      ]
    }
  ],
  "metadata": {
    "colab": {
      "provenance": []
    },
    "kernelspec": {
      "display_name": "Python 3",
      "language": "python",
      "name": "python3"
    },
    "language_info": {
      "codemirror_mode": {
        "name": "ipython",
        "version": 3
      },
      "file_extension": ".py",
      "mimetype": "text/x-python",
      "name": "python",
      "nbconvert_exporter": "python",
      "pygments_lexer": "ipython3",
      "version": "3.13.2"
    }
  },
  "nbformat": 4,
  "nbformat_minor": 5
}
