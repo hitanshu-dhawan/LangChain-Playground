{
  "cells": [
    {
      "cell_type": "markdown",
      "id": "1df78a71",
      "metadata": {
        "id": "1df78a71"
      },
      "source": [
        "# Build an Agent\n",
        "\n",
        "LangChain supports the creation of [agents](/docs/concepts/agents), or systems that use [LLMs](/docs/concepts/chat_models) as reasoning engines to determine which actions to take and the inputs necessary to perform the action.\n",
        "After executing actions, the results can be fed back into the LLM to determine whether more actions are needed, or whether it is okay to finish. This is often achieved via [tool-calling](/docs/concepts/tool_calling).\n",
        "\n",
        "In this tutorial we will build an agent that can interact with a search engine. You will be able to ask this agent questions, watch it call the search tool, and have conversations with it."
      ]
    },
    {
      "cell_type": "markdown",
      "id": "611e6ea6",
      "metadata": {},
      "source": [
        "### Load environment variables"
      ]
    },
    {
      "cell_type": "code",
      "execution_count": 2,
      "id": "a61cd9a6",
      "metadata": {},
      "outputs": [
        {
          "data": {
            "text/plain": [
              "True"
            ]
          },
          "execution_count": 2,
          "metadata": {},
          "output_type": "execute_result"
        }
      ],
      "source": [
        "from dotenv import load_dotenv\n",
        "\n",
        "load_dotenv()"
      ]
    },
    {
      "cell_type": "markdown",
      "id": "3603fa99",
      "metadata": {},
      "source": [
        "## End-to-end agent\n",
        "\n",
        "The code snippet below represents a fully functional agent that uses an LLM to decide which tools to use. It is equipped with a generic search tool. It has conversational memory - meaning that it can be used as a multi-turn chatbot.\n",
        "\n",
        "In the rest of the guide, we will walk through the individual components and what each part does - but if you want to just grab some code and get started, feel free to use this!"
      ]
    },
    {
      "cell_type": "code",
      "execution_count": 5,
      "id": "86d9386b-442f-4cd6-a78f-57c88249d3f0",
      "metadata": {
        "id": "86d9386b-442f-4cd6-a78f-57c88249d3f0"
      },
      "outputs": [],
      "source": [
        "# Import relevant functionality\n",
        "from langchain.chat_models import init_chat_model\n",
        "from langchain_tavily import TavilySearch\n",
        "from langgraph.checkpoint.memory import MemorySaver\n",
        "from langgraph.prebuilt import create_react_agent\n",
        "\n",
        "# Create the agent\n",
        "memory = MemorySaver()\n",
        "model = init_chat_model(\"openai:gpt-5-nano\", temperature=1)\n",
        "search = TavilySearch(max_results=2)\n",
        "tools = [search]\n",
        "agent_executor = create_react_agent(model, tools, checkpointer=memory)"
      ]
    },
    {
      "cell_type": "code",
      "execution_count": 6,
      "id": "7ab50503-d09f-4ff4-9080-5afe297ccc38",
      "metadata": {
        "id": "7ab50503-d09f-4ff4-9080-5afe297ccc38",
        "outputId": "65856247-a40d-445a-fc5d-ac3fe7729ef9"
      },
      "outputs": [
        {
          "name": "stdout",
          "output_type": "stream",
          "text": [
            "================================\u001b[1m Human Message \u001b[0m=================================\n",
            "\n",
            "Hi, I'm Bob and I live in SF.\n",
            "==================================\u001b[1m Ai Message \u001b[0m==================================\n",
            "\n",
            "Hi Bob! Nice to meet you. How can I help today? Since you’re in San Francisco, I can tailor things to the Bay Area. A few ideas:\n",
            "- Local weather, traffic, and transit updates\n",
            "- Restaurant or cafe recommendations near your neighborhood\n",
            "- Events, things to do, or weekend ideas in SF\n",
            "- Real estate or rental tips for the city\n",
            "- SF news or safety alerts\n",
            "\n",
            "Want to tell me your neighborhood (e.g., Mission, SoMa) or a topic you’re interested in?\n"
          ]
        }
      ],
      "source": [
        "# Use the agent\n",
        "config = {\"configurable\": {\"thread_id\": \"abc123\"}}\n",
        "\n",
        "input_message = {\n",
        "    \"role\": \"user\",\n",
        "    \"content\": \"Hi, I'm Bob and I live in SF.\",\n",
        "}\n",
        "for step in agent_executor.stream(\n",
        "    {\"messages\": [input_message]}, config, stream_mode=\"values\"\n",
        "):\n",
        "    step[\"messages\"][-1].pretty_print()"
      ]
    },
    {
      "cell_type": "code",
      "execution_count": 7,
      "id": "fcadb699-3787-4028-a5f6-e5605c8118d4",
      "metadata": {
        "id": "fcadb699-3787-4028-a5f6-e5605c8118d4",
        "outputId": "093524eb-f5d5-4d1e-aa06-de2d90f174cc"
      },
      "outputs": [
        {
          "name": "stdout",
          "output_type": "stream",
          "text": [
            "================================\u001b[1m Human Message \u001b[0m=================================\n",
            "\n",
            "What's the weather where I live?\n",
            "==================================\u001b[1m Ai Message \u001b[0m==================================\n",
            "Tool Calls:\n",
            "  tavily_search (call_gbm1zxsj9oSF7NhfF6Gc8DFi)\n",
            " Call ID: call_gbm1zxsj9oSF7NhfF6Gc8DFi\n",
            "  Args:\n",
            "    query: San Francisco current weather\n",
            "    search_depth: advanced\n",
            "=================================\u001b[1m Tool Message \u001b[0m=================================\n",
            "Name: tavily_search\n",
            "\n",
            "{\"query\": \"San Francisco current weather\", \"follow_up_questions\": null, \"answer\": null, \"images\": [], \"results\": [{\"url\": \"https://www.weather25.com/north-america/usa/california/san-francisco?page=month&month=August\", \"title\": \"San Francisco weather in August 2025 | Weather25.com\", \"content\": \"weather25.com\\nSearch\\nweather in United States\\nRemove from your favorite locations\\nAdd to my locations\\nShare\\nweather in United States\\n\\n# San Francisco weather in August 2025\\n\\nCloudy\\nOvercast\\nMist\\nClear\\nClear\\nSunny\\nPartly cloudy\\nClear\\nClear\\nClear\\nClear\\nClear\\nClear\\nClear\\n\\n## The average weather in San Francisco in August\\n\\nThe temperatures in San Francisco in August are comfortable with low of 14°C and and high up to 25°C. [...] | December | 14° / 8° | 4 | 27 | 0 | 55 mm | Good | San Francisco in December | [...] Partly cloudy\\nPartly cloudy\\nSunny\\nPartly cloudy\\nMist\\nSunny\\nPartly cloudy\\nSunny\\nPartly cloudy\\nSunny\\nSunny\\nPartly cloudy\\nSunny\\nPartly cloudy\\nSunny\\nSunny\\nSunny\\nPartly cloudy\\nPartly cloudy\\nPartly cloudy\\nSunny\\nPartly cloudy\\nPartly cloudy\\nPartly cloudy\\nPartly cloudy\\nSunny\\nCloudy\\nOvercast\\nMist\\nSunny\\nSunny\\n\\n## Explore the weather in San Francisco in other months\\n\\n## San Francisco annual weather\", \"score\": 0.8757978, \"raw_content\": null}, {\"url\": \"https://www.accuweather.com/en/us/san-francisco/94103/august-weather/347629\", \"title\": \"San Francisco, CA Monthly Weather - AccuWeather\", \"content\": \"# San Francisco, CA\\n\\nSan Francisco\\n\\nCalifornia\\n\\n## Around the Globe\\n\\nAround the Globe\\n\\n### Hurricane Tracker\\n\\n### Severe Weather\\n\\n### Radar & Maps\\n\\n### News & Features\\n\\n### Astronomy\\n\\n### Business\\n\\n### Climate\\n\\n### Health\\n\\n### Recreation\\n\\n### Sports\\n\\n### Travel\\n\\n### Warnings\\n\\n### Data Suite\\n\\n### Forensics\\n\\n### Advertising\\n\\n### Superior Accuracy™\\n\\n### Video\\n\\n### Winter Center\\n\\n## Monthly\\n\\n## August\\n\\n## 2025\\n\\n## Daily\\n\\n## Temperature Graph\\n\\n## Further Ahead\\n\\nFurther Ahead\\n\\n### September 2025 [...] ### October 2025\\n\\n### November 2025\\n\\n## Around the Globe\\n\\nAround the Globe\\n\\n### Hurricane Tracker\\n\\n### Severe Weather\\n\\n### Radar & Maps\\n\\n### News\\n\\n### Video\\n\\n### Winter Center\\n\\nTop Stories\\n\\nWeather Forecasts\\n\\nLabor Day weekend forecast: Heat, storms may disrupt holiday plans\\n\\n45 minutes ago\\n\\nWeather News\\n\\nSpaceX successfully completes 10th Starship test mission\\n\\n6 hours ago\\n\\nWeather News\\n\\nRecord-challenging cool to hit Great Lakes, Northeast\\n\\n1 hour ago\\n\\nWeather News [...] Why are there so many leaves falling? Is this an early autumn?\\n\\n5 days ago\\n\\nTravel\\n\\nBeaches in tourist hotspot shut after rare, venomous sea slugs found\\n\\n5 days ago\\n\\nClimate\\n\\nWhy might a warming world makes cloudbursts even more dangerous?\\n\\n6 days ago\\n\\n## Weather Near San Francisco:\\n\\n...\\n\\n...\\n\\n...\", \"score\": 0.5660431, \"raw_content\": null}], \"response_time\": 4.12, \"request_id\": \"a8f08967-d4e7-4424-ae89-9d0111066947\"}\n",
            "==================================\u001b[1m Ai Message \u001b[0m==================================\n",
            "Tool Calls:\n",
            "  tavily_search (call_EtD9NthkMahYtvQkPdSyB6bp)\n",
            " Call ID: call_EtD9NthkMahYtvQkPdSyB6bp\n",
            "  Args:\n",
            "    query: current weather San Francisco\n",
            "    include_domains: ['weather.gov', 'noaa.gov', 'accuweather.com', 'weather.com', 'timeanddate.com', 'google.com']\n",
            "=================================\u001b[1m Tool Message \u001b[0m=================================\n",
            "Name: tavily_search\n",
            "\n",
            "{\"query\": \"current weather San Francisco\", \"follow_up_questions\": null, \"answer\": null, \"images\": [], \"results\": [{\"title\": \"Weather in San Francisco\", \"url\": \"https://www.weatherapi.com/\", \"content\": \"{'location': {'name': 'San Francisco', 'region': 'California', 'country': 'United States of America', 'lat': 37.775, 'lon': -122.4183, 'tz_id': 'America/Los_Angeles', 'localtime_epoch': 1756313356, 'localtime': '2025-08-27 09:49'}, 'current': {'last_updated_epoch': 1756313100, 'last_updated': '2025-08-27 09:45', 'temp_c': 18.9, 'temp_f': 66.0, 'is_day': 1, 'condition': {'text': 'Partly cloudy', 'icon': '//cdn.weatherapi.com/weather/64x64/day/116.png', 'code': 1003}, 'wind_mph': 3.8, 'wind_kph': 6.1, 'wind_degree': 230, 'wind_dir': 'SW', 'pressure_mb': 1018.0, 'pressure_in': 30.07, 'precip_mm': 0.0, 'precip_in': 0.0, 'humidity': 73, 'cloud': 50, 'feelslike_c': 18.9, 'feelslike_f': 66.0, 'windchill_c': 14.0, 'windchill_f': 57.2, 'heatindex_c': 14.3, 'heatindex_f': 57.7, 'dewpoint_c': 13.4, 'dewpoint_f': 56.1, 'vis_km': 16.0, 'vis_miles': 9.0, 'uv': 1.7, 'gust_mph': 5.2, 'gust_kph': 8.4}}\", \"score\": 0.8897838, \"raw_content\": null}, {\"url\": \"https://www.timeanddate.com/weather/usa/san-francisco\", \"title\": \"Weather for San Francisco, California, USA - Time and Date\", \"content\": \"Weather in San Francisco, California, USA ; Aug 27, 2025 at 5:56 am · 10 mi · 30.01 \\\"Hg · 86% · 56 °F ...Yesterday/Past Weather·14 Day Forecast·Hour-by-Hour Forecast\", \"score\": 0.8482825, \"raw_content\": null}], \"response_time\": 1.99, \"request_id\": \"27d69bb8-af22-4807-b1c9-2917a54455c5\"}\n",
            "==================================\u001b[1m Ai Message \u001b[0m==================================\n",
            "\n",
            "Here’s the current weather in San Francisco:\n",
            "\n",
            "- Conditions: Partly cloudy\n",
            "- Temperature: 18.9°C (66°F)\n",
            "- Feels like: 18.9°C\n",
            "- Humidity: 73%\n",
            "- Wind: SW around 6.1 kph (3.8 mph); gusts up to about 8.4 kph (5.2 mph)\n",
            "- Air pressure: 1018 mb\n",
            "- Visibility: 16 km\n",
            "- Precipitation: 0.0 mm\n",
            "- Last updated: about 9:45 AM local time\n",
            "\n",
            "Would you like the 24-hour or 7-day forecast, or should I switch to Fahrenheit?\n"
          ]
        }
      ],
      "source": [
        "input_message = {\n",
        "    \"role\": \"user\",\n",
        "    \"content\": \"What's the weather where I live?\",\n",
        "}\n",
        "\n",
        "for step in agent_executor.stream(\n",
        "    {\"messages\": [input_message]}, config, stream_mode=\"values\"\n",
        "):\n",
        "    step[\"messages\"][-1].pretty_print()"
      ]
    },
    {
      "cell_type": "markdown",
      "id": "f4c03f40-1328-412d-8a48-1db0cd481b77",
      "metadata": {
        "id": "f4c03f40-1328-412d-8a48-1db0cd481b77"
      },
      "source": [
        "## Setup\n",
        "\n",
        "### Jupyter Notebook\n",
        "\n",
        "This guide (and most of the other guides in the documentation) uses [Jupyter notebooks](https://jupyter.org/) and assumes the reader is as well. Jupyter notebooks are perfect interactive environments for learning how to work with LLM systems because oftentimes things can go wrong (unexpected output, API down, etc), and observing these cases is a great way to better understand building with LLMs.\n",
        "\n",
        "This and other tutorials are perhaps most conveniently run in a Jupyter notebook. See [here](https://jupyter.org/install) for instructions on how to install.\n",
        "\n",
        "### Installation\n",
        "\n",
        "To install LangChain run:"
      ]
    },
    {
      "cell_type": "code",
      "execution_count": 9,
      "id": "60bb3eb1",
      "metadata": {
        "id": "60bb3eb1"
      },
      "outputs": [
        {
          "name": "stdout",
          "output_type": "stream",
          "text": [
            "Requirement already satisfied: langgraph in /opt/homebrew/lib/python3.13/site-packages (0.6.4)\n",
            "Collecting langgraph\n",
            "  Downloading langgraph-0.6.6-py3-none-any.whl.metadata (6.8 kB)\n",
            "Requirement already satisfied: langchain-tavily in /opt/homebrew/lib/python3.13/site-packages (0.2.11)\n",
            "Requirement already satisfied: langgraph-checkpoint-sqlite in /opt/homebrew/lib/python3.13/site-packages (2.0.11)\n",
            "Requirement already satisfied: langchain-core>=0.1 in /opt/homebrew/lib/python3.13/site-packages (from langgraph) (0.3.74)\n",
            "Requirement already satisfied: langgraph-checkpoint<3.0.0,>=2.1.0 in /opt/homebrew/lib/python3.13/site-packages (from langgraph) (2.1.1)\n",
            "Requirement already satisfied: langgraph-prebuilt<0.7.0,>=0.6.0 in /opt/homebrew/lib/python3.13/site-packages (from langgraph) (0.6.4)\n",
            "Collecting langgraph-sdk<0.3.0,>=0.2.2 (from langgraph)\n",
            "  Downloading langgraph_sdk-0.2.3-py3-none-any.whl.metadata (1.5 kB)\n",
            "Requirement already satisfied: pydantic>=2.7.4 in /opt/homebrew/lib/python3.13/site-packages (from langgraph) (2.11.7)\n",
            "Requirement already satisfied: xxhash>=3.5.0 in /opt/homebrew/lib/python3.13/site-packages (from langgraph) (3.5.0)\n",
            "Requirement already satisfied: aiohttp<4.0.0,>=3.11.14 in /opt/homebrew/lib/python3.13/site-packages (from langchain-tavily) (3.12.15)\n",
            "Requirement already satisfied: langchain<0.4.0,>=0.3.20 in /opt/homebrew/lib/python3.13/site-packages (from langchain-tavily) (0.3.27)\n",
            "Requirement already satisfied: requests<3.0.0,>=2.32.3 in /opt/homebrew/lib/python3.13/site-packages (from langchain-tavily) (2.32.3)\n",
            "Requirement already satisfied: aiosqlite>=0.20 in /opt/homebrew/lib/python3.13/site-packages (from langgraph-checkpoint-sqlite) (0.21.0)\n",
            "Requirement already satisfied: sqlite-vec>=0.1.6 in /opt/homebrew/lib/python3.13/site-packages (from langgraph-checkpoint-sqlite) (0.1.6)\n",
            "Requirement already satisfied: aiohappyeyeballs>=2.5.0 in /opt/homebrew/lib/python3.13/site-packages (from aiohttp<4.0.0,>=3.11.14->langchain-tavily) (2.6.1)\n",
            "Requirement already satisfied: aiosignal>=1.4.0 in /opt/homebrew/lib/python3.13/site-packages (from aiohttp<4.0.0,>=3.11.14->langchain-tavily) (1.4.0)\n",
            "Requirement already satisfied: attrs>=17.3.0 in /opt/homebrew/lib/python3.13/site-packages (from aiohttp<4.0.0,>=3.11.14->langchain-tavily) (25.3.0)\n",
            "Requirement already satisfied: frozenlist>=1.1.1 in /opt/homebrew/lib/python3.13/site-packages (from aiohttp<4.0.0,>=3.11.14->langchain-tavily) (1.7.0)\n",
            "Requirement already satisfied: multidict<7.0,>=4.5 in /opt/homebrew/lib/python3.13/site-packages (from aiohttp<4.0.0,>=3.11.14->langchain-tavily) (6.6.3)\n",
            "Requirement already satisfied: propcache>=0.2.0 in /opt/homebrew/lib/python3.13/site-packages (from aiohttp<4.0.0,>=3.11.14->langchain-tavily) (0.3.2)\n",
            "Requirement already satisfied: yarl<2.0,>=1.17.0 in /opt/homebrew/lib/python3.13/site-packages (from aiohttp<4.0.0,>=3.11.14->langchain-tavily) (1.20.1)\n",
            "Requirement already satisfied: typing_extensions>=4.0 in /opt/homebrew/lib/python3.13/site-packages (from aiosqlite>=0.20->langgraph-checkpoint-sqlite) (4.13.1)\n",
            "Requirement already satisfied: langchain-text-splitters<1.0.0,>=0.3.9 in /opt/homebrew/lib/python3.13/site-packages (from langchain<0.4.0,>=0.3.20->langchain-tavily) (0.3.9)\n",
            "Requirement already satisfied: langsmith>=0.1.17 in /opt/homebrew/lib/python3.13/site-packages (from langchain<0.4.0,>=0.3.20->langchain-tavily) (0.3.45)\n",
            "Requirement already satisfied: SQLAlchemy<3,>=1.4 in /opt/homebrew/lib/python3.13/site-packages (from langchain<0.4.0,>=0.3.20->langchain-tavily) (2.0.42)\n",
            "Requirement already satisfied: PyYAML>=5.3 in /opt/homebrew/lib/python3.13/site-packages (from langchain<0.4.0,>=0.3.20->langchain-tavily) (6.0.2)\n",
            "Requirement already satisfied: tenacity!=8.4.0,<10.0.0,>=8.1.0 in /opt/homebrew/lib/python3.13/site-packages (from langchain-core>=0.1->langgraph) (9.1.2)\n",
            "Requirement already satisfied: jsonpatch<2.0,>=1.33 in /opt/homebrew/lib/python3.13/site-packages (from langchain-core>=0.1->langgraph) (1.33)\n",
            "Requirement already satisfied: packaging>=23.2 in /opt/homebrew/lib/python3.13/site-packages (from langchain-core>=0.1->langgraph) (25.0)\n",
            "Requirement already satisfied: ormsgpack>=1.10.0 in /opt/homebrew/lib/python3.13/site-packages (from langgraph-checkpoint<3.0.0,>=2.1.0->langgraph) (1.10.0)\n",
            "Requirement already satisfied: httpx>=0.25.2 in /opt/homebrew/lib/python3.13/site-packages (from langgraph-sdk<0.3.0,>=0.2.2->langgraph) (0.28.1)\n",
            "Requirement already satisfied: orjson>=3.10.1 in /opt/homebrew/lib/python3.13/site-packages (from langgraph-sdk<0.3.0,>=0.2.2->langgraph) (3.11.1)\n",
            "Requirement already satisfied: annotated-types>=0.6.0 in /opt/homebrew/lib/python3.13/site-packages (from pydantic>=2.7.4->langgraph) (0.7.0)\n",
            "Requirement already satisfied: pydantic-core==2.33.2 in /opt/homebrew/lib/python3.13/site-packages (from pydantic>=2.7.4->langgraph) (2.33.2)\n",
            "Requirement already satisfied: typing-inspection>=0.4.0 in /opt/homebrew/lib/python3.13/site-packages (from pydantic>=2.7.4->langgraph) (0.4.0)\n",
            "Requirement already satisfied: charset-normalizer<4,>=2 in /opt/homebrew/lib/python3.13/site-packages (from requests<3.0.0,>=2.32.3->langchain-tavily) (3.4.1)\n",
            "Requirement already satisfied: idna<4,>=2.5 in /opt/homebrew/lib/python3.13/site-packages (from requests<3.0.0,>=2.32.3->langchain-tavily) (3.10)\n",
            "Requirement already satisfied: urllib3<3,>=1.21.1 in /opt/homebrew/lib/python3.13/site-packages (from requests<3.0.0,>=2.32.3->langchain-tavily) (2.3.0)\n",
            "Requirement already satisfied: certifi>=2017.4.17 in /opt/homebrew/lib/python3.13/site-packages (from requests<3.0.0,>=2.32.3->langchain-tavily) (2025.1.31)\n",
            "Requirement already satisfied: anyio in /opt/homebrew/lib/python3.13/site-packages (from httpx>=0.25.2->langgraph-sdk<0.3.0,>=0.2.2->langgraph) (4.9.0)\n",
            "Requirement already satisfied: httpcore==1.* in /opt/homebrew/lib/python3.13/site-packages (from httpx>=0.25.2->langgraph-sdk<0.3.0,>=0.2.2->langgraph) (1.0.7)\n",
            "Requirement already satisfied: h11<0.15,>=0.13 in /opt/homebrew/lib/python3.13/site-packages (from httpcore==1.*->httpx>=0.25.2->langgraph-sdk<0.3.0,>=0.2.2->langgraph) (0.14.0)\n",
            "Requirement already satisfied: jsonpointer>=1.9 in /opt/homebrew/lib/python3.13/site-packages (from jsonpatch<2.0,>=1.33->langchain-core>=0.1->langgraph) (3.0.0)\n",
            "Requirement already satisfied: requests-toolbelt<2.0.0,>=1.0.0 in /opt/homebrew/lib/python3.13/site-packages (from langsmith>=0.1.17->langchain<0.4.0,>=0.3.20->langchain-tavily) (1.0.0)\n",
            "Requirement already satisfied: zstandard<0.24.0,>=0.23.0 in /opt/homebrew/lib/python3.13/site-packages (from langsmith>=0.1.17->langchain<0.4.0,>=0.3.20->langchain-tavily) (0.23.0)\n",
            "Requirement already satisfied: sniffio>=1.1 in /opt/homebrew/lib/python3.13/site-packages (from anyio->httpx>=0.25.2->langgraph-sdk<0.3.0,>=0.2.2->langgraph) (1.3.1)\n",
            "Downloading langgraph-0.6.6-py3-none-any.whl (153 kB)\n",
            "Downloading langgraph_sdk-0.2.3-py3-none-any.whl (52 kB)\n",
            "Installing collected packages: langgraph-sdk, langgraph\n",
            "  Attempting uninstall: langgraph-sdk\n",
            "    Found existing installation: langgraph-sdk 0.2.0\n",
            "    Uninstalling langgraph-sdk-0.2.0:\n",
            "      Successfully uninstalled langgraph-sdk-0.2.0\n",
            "  Attempting uninstall: langgraph\n",
            "    Found existing installation: langgraph 0.6.4\n",
            "    Uninstalling langgraph-0.6.4:\n",
            "      Successfully uninstalled langgraph-0.6.4\n",
            "Successfully installed langgraph-0.6.6 langgraph-sdk-0.2.3\n",
            "Note: you may need to restart the kernel to use updated packages.\n"
          ]
        }
      ],
      "source": [
        "%pip install -U langgraph langchain-tavily langgraph-checkpoint-sqlite --break-system-packages"
      ]
    },
    {
      "cell_type": "markdown",
      "id": "2ee337ae",
      "metadata": {
        "id": "2ee337ae"
      },
      "source": [
        "For more details, see our [Installation guide](/docs/how_to/installation).\n",
        "\n",
        "### LangSmith\n",
        "\n",
        "Many of the applications you build with LangChain will contain multiple steps with multiple invocations of LLM calls.\n",
        "As these applications get more and more complex, it becomes crucial to be able to inspect what exactly is going on inside your chain or agent.\n",
        "The best way to do this is with [LangSmith](https://smith.langchain.com).\n",
        "\n",
        "After you sign up at the link above, make sure to set your environment variables to start logging traces:\n",
        "\n",
        "```shell\n",
        "export LANGSMITH_TRACING=\"true\"\n",
        "export LANGSMITH_API_KEY=\"...\"\n",
        "```\n",
        "\n",
        "Or, if in a notebook, you can set them with:\n",
        "\n",
        "```python\n",
        "import getpass\n",
        "import os\n",
        "\n",
        "os.environ[\"LANGSMITH_TRACING\"] = \"true\"\n",
        "os.environ[\"LANGSMITH_API_KEY\"] = getpass.getpass()\n",
        "```\n",
        "\n",
        "### Tavily\n",
        "\n",
        "We will be using [Tavily](/docs/integrations/tools/tavily_search) (a search engine) as a tool.\n",
        "In order to use it, you will need to get and set an API key:\n",
        "\n",
        "```bash\n",
        "export TAVILY_API_KEY=\"...\"\n",
        "```\n",
        "\n",
        "Or, if in a notebook, you can set it with:\n",
        "\n",
        "```python\n",
        "import getpass\n",
        "import os\n",
        "\n",
        "os.environ[\"TAVILY_API_KEY\"] = getpass.getpass()\n",
        "```"
      ]
    },
    {
      "cell_type": "markdown",
      "id": "c335d1bf",
      "metadata": {
        "id": "c335d1bf"
      },
      "source": [
        "## Define tools\n",
        "\n",
        "We first need to create the tools we want to use. Our main tool of choice will be [Tavily](/docs/integrations/tools/tavily_search) - a search engine. We can use the dedicated [langchain-tavily](https://pypi.org/project/langchain-tavily/) [integration package](/docs/concepts/architecture/#integration-packages) to easily use Tavily search engine as tool with LangChain.\n"
      ]
    },
    {
      "cell_type": "code",
      "execution_count": 10,
      "id": "76a02d36-6ea2-4e62-88b4-6c480dd9c04f",
      "metadata": {
        "id": "76a02d36-6ea2-4e62-88b4-6c480dd9c04f",
        "outputId": "e245737e-4399-4927-8f0b-9f25a6081bbd"
      },
      "outputs": [
        {
          "name": "stdout",
          "output_type": "stream",
          "text": [
            "{'query': 'What is the weather in SF', 'follow_up_questions': None, 'answer': None, 'images': [], 'results': [{'title': 'Weather in San Francisco', 'url': 'https://www.weatherapi.com/', 'content': \"{'location': {'name': 'San Francisco', 'region': 'California', 'country': 'United States of America', 'lat': 37.775, 'lon': -122.4183, 'tz_id': 'America/Los_Angeles', 'localtime_epoch': 1756313356, 'localtime': '2025-08-27 09:49'}, 'current': {'last_updated_epoch': 1756313100, 'last_updated': '2025-08-27 09:45', 'temp_c': 18.9, 'temp_f': 66.0, 'is_day': 1, 'condition': {'text': 'Partly cloudy', 'icon': '//cdn.weatherapi.com/weather/64x64/day/116.png', 'code': 1003}, 'wind_mph': 3.8, 'wind_kph': 6.1, 'wind_degree': 230, 'wind_dir': 'SW', 'pressure_mb': 1018.0, 'pressure_in': 30.07, 'precip_mm': 0.0, 'precip_in': 0.0, 'humidity': 73, 'cloud': 50, 'feelslike_c': 18.9, 'feelslike_f': 66.0, 'windchill_c': 14.0, 'windchill_f': 57.2, 'heatindex_c': 14.3, 'heatindex_f': 57.7, 'dewpoint_c': 13.4, 'dewpoint_f': 56.1, 'vis_km': 16.0, 'vis_miles': 9.0, 'uv': 1.7, 'gust_mph': 5.2, 'gust_kph': 8.4}}\", 'score': 0.9582116, 'raw_content': None}, {'url': 'https://weathershogun.com/weather/usa/ca/san-francisco/480/august/2025-08-27', 'title': 'Wednesday, August 27, 2025. San Francisco, CA - Weather Forecast', 'content': \"Wednesday, August 27, 2025. San Francisco, CA - Weather Forecast  San Francisco, CA Image 1: WeatherShogun.com HomeContactBrowse StatesPrivacy PolicyTerms and Conditions °F)°C) TodayTomorrowHourly7 days30 daysAugust San Francisco, California Weather:  Wednesday, August 27, 2025 Day 70° Night 59° Precipitation 0 % Wind 10 mph UV Index (0 - 11+)11 Thursday *   Hourly *   Today *   Current Air Quality *   Hourly Air Quality Forecast *   7 days *   30 days Weather Forecast History Last Year's Weather on This Day (August 27, 2024) ### Day 79° ### Night 55° #### Wind 8 mph #### UV Index #### Precipitation Please note that while we strive for accuracy, the information provided may not always be correct. Use at your own risk. © Copyright by WeatherShogun.com\", 'score': 0.9521889, 'raw_content': None}], 'response_time': 0.99, 'request_id': 'cf7ae976-34da-4c72-bea1-305f3532f14e'}\n"
          ]
        }
      ],
      "source": [
        "from langchain_tavily import TavilySearch\n",
        "\n",
        "search = TavilySearch(max_results=2)\n",
        "search_results = search.invoke(\"What is the weather in SF\")\n",
        "print(search_results)\n",
        "# If we want, we can create other tools.\n",
        "# Once we have all the tools we want, we can put them in a list that we will reference later.\n",
        "tools = [search]"
      ]
    },
    {
      "cell_type": "markdown",
      "id": "ecbc86d8",
      "metadata": {
        "id": "ecbc86d8"
      },
      "source": [
        ":::tip\n",
        "\n",
        "In many applications, you may want to define custom tools. LangChain supports custom\n",
        "tool creation via Python functions and other means. Refer to the\n",
        "[How to create tools](/docs/how_to/custom_tools/) guide for details.\n",
        "\n",
        ":::"
      ]
    },
    {
      "cell_type": "markdown",
      "id": "e00068b0",
      "metadata": {
        "id": "e00068b0"
      },
      "source": [
        "## Using Language Models\n",
        "\n",
        "Next, let's learn how to use a language model to call tools. LangChain supports many different language models that you can use interchangably."
      ]
    },
    {
      "cell_type": "code",
      "execution_count": 11,
      "id": "69185491",
      "metadata": {
        "id": "69185491"
      },
      "outputs": [],
      "source": [
        "from langchain_openai import ChatOpenAI\n",
        "\n",
        "model = ChatOpenAI(model=\"gpt-5-nano\", temperature=1)"
      ]
    },
    {
      "cell_type": "markdown",
      "id": "642ed8bf",
      "metadata": {
        "id": "642ed8bf"
      },
      "source": [
        "You can call the language model by passing in a list of messages. By default, the response is a `content` string."
      ]
    },
    {
      "cell_type": "code",
      "execution_count": 12,
      "id": "c96c960b",
      "metadata": {
        "id": "c96c960b",
        "outputId": "1135edfa-c3fb-4c0e-d438-c2f21d83a84c"
      },
      "outputs": [
        {
          "data": {
            "text/plain": [
              "'Hi there! How can I help today? I can explain concepts, answer questions, help with writing or coding, brainstorm ideas, plan something, or just chat. Tell me what you’d like to do or share a topic, and I’ll dive in.'"
            ]
          },
          "execution_count": 12,
          "metadata": {},
          "output_type": "execute_result"
        }
      ],
      "source": [
        "query = \"Hi!\"\n",
        "response = model.invoke([{\"role\": \"user\", \"content\": query}])\n",
        "response.text()"
      ]
    },
    {
      "cell_type": "markdown",
      "id": "47bf8210",
      "metadata": {
        "id": "47bf8210"
      },
      "source": [
        "We can now see what it is like to enable this model to do tool calling. In order to enable that we use `.bind_tools` to give the language model knowledge of these tools"
      ]
    },
    {
      "cell_type": "code",
      "execution_count": 13,
      "id": "ba692a74",
      "metadata": {
        "id": "ba692a74"
      },
      "outputs": [],
      "source": [
        "model_with_tools = model.bind_tools(tools)"
      ]
    },
    {
      "cell_type": "markdown",
      "id": "fd920b69",
      "metadata": {
        "id": "fd920b69"
      },
      "source": [
        "We can now call the model. Let's first call it with a normal message, and see how it responds. We can look at both the `content` field as well as the `tool_calls` field."
      ]
    },
    {
      "cell_type": "code",
      "execution_count": 14,
      "id": "b6a7e925",
      "metadata": {
        "id": "b6a7e925",
        "outputId": "63f425de-8bda-42c9-bc09-fad41a510338"
      },
      "outputs": [
        {
          "name": "stdout",
          "output_type": "stream",
          "text": [
            "Message content: Hi there! How can I help today?\n",
            "\n",
            "I can:\n",
            "- Explain concepts or answer questions\n",
            "- Draft or edit emails, essays, or code\n",
            "- Brainstorm ideas or plans (travel, projects, etc.)\n",
            "- Summarize articles or documents\n",
            "- Help with debugging or learning something new\n",
            "\n",
            "Tell me what you’re aiming to do, or share a topic you’re curious about. If you’re unsure, here are quick prompts you can try:\n",
            "- Explain [concept] in simple terms\n",
            "- Draft a polite email about [topic]\n",
            "- Plan a [duration]-day itinerary for [place]\n",
            "- Help me debug this [language] code snippet\n",
            "\n",
            "What would you like to start with?\n",
            "\n",
            "Tool calls: []\n"
          ]
        }
      ],
      "source": [
        "query = \"Hi!\"\n",
        "response = model_with_tools.invoke([{\"role\": \"user\", \"content\": query}])\n",
        "\n",
        "print(f\"Message content: {response.text()}\\n\")\n",
        "print(f\"Tool calls: {response.tool_calls}\")"
      ]
    },
    {
      "cell_type": "markdown",
      "id": "e8c81e76",
      "metadata": {
        "id": "e8c81e76"
      },
      "source": [
        "Now, let's try calling it with some input that would expect a tool to be called."
      ]
    },
    {
      "cell_type": "code",
      "execution_count": 15,
      "id": "688b465d",
      "metadata": {
        "id": "688b465d",
        "outputId": "659928a8-6a47-4344-bad9-2172c3920b23"
      },
      "outputs": [
        {
          "name": "stdout",
          "output_type": "stream",
          "text": [
            "Message content: \n",
            "\n",
            "Tool calls: [{'name': 'tavily_search', 'args': {'query': 'current weather San Francisco', 'include_domains': ['weather.gov', 'noaa.gov', 'weather.com', 'accuweather.com', 'forecast.weather.gov'], 'search_depth': 'advanced', 'include_favicon': False, 'time_range': 'day'}, 'id': 'call_ne6JzkdswrSrBm9DSxx8DMaa', 'type': 'tool_call'}]\n"
          ]
        }
      ],
      "source": [
        "query = \"Search for the weather in SF\"\n",
        "response = model_with_tools.invoke([{\"role\": \"user\", \"content\": query}])\n",
        "\n",
        "print(f\"Message content: {response.text()}\\n\")\n",
        "print(f\"Tool calls: {response.tool_calls}\")"
      ]
    },
    {
      "cell_type": "markdown",
      "id": "83c4bcd3",
      "metadata": {
        "id": "83c4bcd3"
      },
      "source": [
        "We can see that there's now no text content, but there is a tool call! It wants us to call the Tavily Search tool.\n",
        "\n",
        "This isn't calling that tool yet - it's just telling us to. In order to actually call it, we'll want to create our agent."
      ]
    },
    {
      "cell_type": "markdown",
      "id": "40ccec80",
      "metadata": {
        "id": "40ccec80"
      },
      "source": [
        "## Create the agent\n",
        "\n",
        "Now that we have defined the tools and the LLM, we can create the agent. We will be using [LangGraph](/docs/concepts/architecture/#langgraph) to construct the agent.\n",
        "Currently, we are using a high level interface to construct the agent, but the nice thing about LangGraph is that this high-level interface is backed by a low-level, highly controllable API in case you want to modify the agent logic.\n"
      ]
    },
    {
      "cell_type": "markdown",
      "id": "f8014c9d",
      "metadata": {
        "id": "f8014c9d"
      },
      "source": [
        "Now, we can initialize the agent with the LLM and the tools.\n",
        "\n",
        "Note that we are passing in the `model`, not `model_with_tools`. That is because `create_react_agent` will call `.bind_tools` for us under the hood."
      ]
    },
    {
      "cell_type": "code",
      "execution_count": 16,
      "id": "89cf72b4-6046-4b47-8f27-5522d8cb8036",
      "metadata": {
        "id": "89cf72b4-6046-4b47-8f27-5522d8cb8036"
      },
      "outputs": [],
      "source": [
        "from langgraph.prebuilt import create_react_agent\n",
        "\n",
        "agent_executor = create_react_agent(model, tools)"
      ]
    },
    {
      "cell_type": "markdown",
      "id": "e4df0e06",
      "metadata": {
        "id": "e4df0e06"
      },
      "source": [
        "## Run the agent\n",
        "\n",
        "We can now run the agent with a few queries! Note that for now, these are all **stateless** queries (it won't remember previous interactions). Note that the agent will return the **final** state at the end of the interaction (which includes any inputs, we will see later on how to get only the outputs).\n",
        "\n",
        "First up, let's see how it responds when there's no need to call a tool:"
      ]
    },
    {
      "cell_type": "code",
      "execution_count": 17,
      "id": "114ba50d",
      "metadata": {
        "id": "114ba50d",
        "outputId": "5d722b57-deeb-4d5a-9e36-8813fbff8b6d"
      },
      "outputs": [
        {
          "name": "stdout",
          "output_type": "stream",
          "text": [
            "================================\u001b[1m Human Message \u001b[0m=================================\n",
            "\n",
            "Hi!\n",
            "==================================\u001b[1m Ai Message \u001b[0m==================================\n",
            "\n",
            "Hi there! How can I help today? I can answer questions, brainstorm ideas, draft emails or documents, explain concepts, help with coding, plan trips, summarize articles, and more. What would you like to do?\n"
          ]
        }
      ],
      "source": [
        "input_message = {\"role\": \"user\", \"content\": \"Hi!\"}\n",
        "response = agent_executor.invoke({\"messages\": [input_message]})\n",
        "\n",
        "for message in response[\"messages\"]:\n",
        "    message.pretty_print()"
      ]
    },
    {
      "cell_type": "markdown",
      "id": "71493a42",
      "metadata": {
        "id": "71493a42"
      },
      "source": [
        "In order to see exactly what is happening under the hood (and to make sure it's not calling a tool) we can take a look at the [LangSmith trace](https://smith.langchain.com/public/28311faa-e135-4d6a-ab6b-caecf6482aaa/r)\n",
        "\n",
        "Let's now try it out on an example where it should be invoking the tool"
      ]
    },
    {
      "cell_type": "code",
      "execution_count": 18,
      "id": "77c2f769",
      "metadata": {
        "id": "77c2f769",
        "outputId": "3df0fb7c-b35f-4754-d12b-d6f1cbb97e2d"
      },
      "outputs": [
        {
          "name": "stdout",
          "output_type": "stream",
          "text": [
            "================================\u001b[1m Human Message \u001b[0m=================================\n",
            "\n",
            "Search for the weather in SF\n",
            "==================================\u001b[1m Ai Message \u001b[0m==================================\n",
            "Tool Calls:\n",
            "  tavily_search (call_XFtj6Hf8scJvwxWqSbnWIgMT)\n",
            " Call ID: call_XFtj6Hf8scJvwxWqSbnWIgMT\n",
            "  Args:\n",
            "    query: San Francisco weather current\n",
            "    include_domains: ['weather.gov', 'noaa.gov', 'weather.com', 'accuweather.com', 'timeanddate.com', 'bbc.com']\n",
            "=================================\u001b[1m Tool Message \u001b[0m=================================\n",
            "Name: tavily_search\n",
            "\n",
            "{\"query\": \"San Francisco weather current\", \"follow_up_questions\": null, \"answer\": null, \"images\": [], \"results\": [{\"title\": \"Weather in San Francisco, California\", \"url\": \"https://www.weatherapi.com/\", \"content\": \"{'location': {'name': 'San Francisco', 'region': 'California', 'country': 'United States of America', 'lat': 37.775, 'lon': -122.4183, 'tz_id': 'America/Los_Angeles', 'localtime_epoch': 1756313790, 'localtime': '2025-08-27 09:56'}, 'current': {'last_updated_epoch': 1756313100, 'last_updated': '2025-08-27 09:45', 'temp_c': 18.1, 'temp_f': 64.6, 'is_day': 1, 'condition': {'text': 'Overcast', 'icon': '//cdn.weatherapi.com/weather/64x64/day/122.png', 'code': 1009}, 'wind_mph': 3.8, 'wind_kph': 6.1, 'wind_degree': 233, 'wind_dir': 'SW', 'pressure_mb': 1018.0, 'pressure_in': 30.07, 'precip_mm': 0.0, 'precip_in': 0.0, 'humidity': 83, 'cloud': 100, 'feelslike_c': 18.1, 'feelslike_f': 64.6, 'windchill_c': 14.9, 'windchill_f': 58.8, 'heatindex_c': 14.9, 'heatindex_f': 58.8, 'dewpoint_c': 14.1, 'dewpoint_f': 57.4, 'vis_km': 13.0, 'vis_miles': 8.0, 'uv': 1.7, 'gust_mph': 5.2, 'gust_kph': 8.3}}\", \"score\": 0.9599402, \"raw_content\": null}, {\"url\": \"https://www.timeanddate.com/weather/usa/san-francisco\", \"title\": \"Weather for San Francisco, California, USA - Time and Date\", \"content\": \"Current weather in San Francisco and forecast for today, tomorrow, and next 14 days. ... Aug 27, 2025 at 5:56 am. Visibility: 10 mi. Pressure: 30.01 \\\"Hg.Yesterday/Past Weather·14 Day Forecast·Hour-by-Hour Forecast\", \"score\": 0.83678174, \"raw_content\": null}], \"response_time\": 2.17, \"request_id\": \"92528ba6-a997-4e12-aa85-a56b68db40d6\"}\n",
            "==================================\u001b[1m Ai Message \u001b[0m==================================\n",
            "\n",
            "Here’s the current weather for San Francisco, CA (SF):\n",
            "\n",
            "- Condition: Overcast\n",
            "- Temperature: 18.1°C / 64.6°F\n",
            "- Wind: SW around 6.1 kph (3.8 mph)\n",
            "- Humidity: 83%\n",
            "- Pressure: 1018 mb\n",
            "- Visibility: 13 km (about 8 miles)\n",
            "- Dew point: 14.1°C\n",
            "- UV index: 1.7\n",
            "- Feels like: 18.1°C\n",
            "- Observation time: 2025-08-27 09:45 local time (America/Los_Angeles)\n",
            "\n",
            "Sources for this snapshot include weatherapi.com and TimeandDate’s San Francisco page.\n",
            "\n",
            "Would you like a forecast (today, next 7 days) or any specific detail (precipitation chances, hourly outlook), and from which source should I pull it?\n"
          ]
        }
      ],
      "source": [
        "input_message = {\"role\": \"user\", \"content\": \"Search for the weather in SF\"}\n",
        "response = agent_executor.invoke({\"messages\": [input_message]})\n",
        "\n",
        "for message in response[\"messages\"]:\n",
        "    message.pretty_print()"
      ]
    },
    {
      "cell_type": "markdown",
      "id": "c174f838",
      "metadata": {
        "id": "c174f838"
      },
      "source": [
        "We can check out the [LangSmith trace](https://smith.langchain.com/public/f520839d-cd4d-4495-8764-e32b548e235d/r) to make sure it's calling the search tool effectively."
      ]
    },
    {
      "cell_type": "markdown",
      "id": "8f6ca7e4",
      "metadata": {
        "id": "8f6ca7e4"
      },
      "source": [
        "## Streaming Messages\n",
        "\n",
        "We've seen how the agent can be called with `.invoke` to get  a final response. If the agent executes multiple steps, this may take a while. To show intermediate progress, we can stream back messages as they occur."
      ]
    },
    {
      "cell_type": "code",
      "execution_count": 19,
      "id": "bd93812b-2350-4d7f-9643-34c753503754",
      "metadata": {
        "id": "bd93812b-2350-4d7f-9643-34c753503754",
        "outputId": "fbe5b6b4-b4e5-41d9-c30d-24e54b112deb"
      },
      "outputs": [
        {
          "name": "stdout",
          "output_type": "stream",
          "text": [
            "================================\u001b[1m Human Message \u001b[0m=================================\n",
            "\n",
            "Search for the weather in SF\n",
            "==================================\u001b[1m Ai Message \u001b[0m==================================\n",
            "Tool Calls:\n",
            "  tavily_search (call_tRLqro4sx4upz6UtWfBqqz3n)\n",
            " Call ID: call_tRLqro4sx4upz6UtWfBqqz3n\n",
            "  Args:\n",
            "    query: San Francisco weather today\n",
            "    include_domains: ['weather.gov', 'weather.com', 'accuweather.com', 'noaa.gov']\n",
            "    search_depth: advanced\n",
            "=================================\u001b[1m Tool Message \u001b[0m=================================\n",
            "Name: tavily_search\n",
            "\n",
            "{\"query\": \"San Francisco weather today\", \"follow_up_questions\": null, \"answer\": null, \"images\": [], \"results\": [{\"url\": \"https://forecast.weather.gov/MapClick.php?lat=37.9036&lon=-122.5436&unit=0&lg=english&FcstType=graphical\", \"title\": \"Hourly Weather Forecast - National Weather Service\", \"content\": \"| 48-Hour Period Starting: 9am Wed, Aug 27 202510am Wed, Aug 27 202511am Wed, Aug 27 202512pm Wed, Aug 27 20251pm Wed, Aug 27 20252pm Wed, Aug 27 20253pm Wed, Aug 27 20254pm Wed, Aug 27 20255pm Wed, Aug 27 20256pm Wed, Aug 27 20257pm Wed, Aug 27 20258pm Wed, Aug 27 20259pm Wed, Aug 27 202510pm Wed, Aug 27 202511pm Wed, Aug 27 202512am Thu, Aug 28 20251am Thu, Aug 28 20252am Thu, Aug 28 20253am Thu, Aug 28 20254am Thu, Aug 28 20255am Thu, Aug 28 20256am Thu, Aug 28 20257am Thu, Aug 28 20258am [...] | |  |  |  --- | | 48-Hour Period Starting: 9am Wed, Aug 27 202510am Wed, Aug 27 202511am Wed, Aug 27 202512pm Wed, Aug 27 20251pm Wed, Aug 27 20252pm Wed, Aug 27 20253pm Wed, Aug 27 20254pm Wed, Aug 27 20255pm Wed, Aug 27 20256pm Wed, Aug 27 20257pm Wed, Aug 27 20258pm Wed, Aug 27 20259pm Wed, Aug 27 202510pm Wed, Aug 27 202511pm Wed, Aug 27 202512am Thu, Aug 28 20251am Thu, Aug 28 20252am Thu, Aug 28 20253am Thu, Aug 28 20254am Thu, Aug 28 20255am Thu, Aug 28 20256am Thu, Aug 28 20257am Thu, [...] National Oceanic and Atmospheric Administration\\nNational Weather Service\\nUnited States Department of Commerce\\n\\nNWS\\n\\nAll NOAA\\n\\n|  |  |\\n --- |\\n| Point Forecast: Mill Valley CA  37.91N 122.53W (Elev. 397 ft) | Last Update: 8:52 am PDT Aug 27, 2025 |\\n| Hourly Weather Forecast Graph | |\\n\\nHourly Weather Forecast Graph\", \"score\": 0.6747586, \"raw_content\": null}, {\"url\": \"https://www.accuweather.com/en/us/san-francisco/94103/august-weather/347629\", \"title\": \"San Francisco, CA Monthly Weather - AccuWeather\", \"content\": \"# San Francisco, CA\\n\\nSan Francisco\\n\\nCalifornia\\n\\n## Around the Globe\\n\\nAround the Globe\\n\\n### Hurricane Tracker\\n\\n### Severe Weather\\n\\n### Radar & Maps\\n\\n### News & Features\\n\\n### Astronomy\\n\\n### Business\\n\\n### Climate\\n\\n### Health\\n\\n### Recreation\\n\\n### Sports\\n\\n### Travel\\n\\n### Warnings\\n\\n### Data Suite\\n\\n### Forensics\\n\\n### Advertising\\n\\n### Superior Accuracy™\\n\\n### Video\\n\\n### Winter Center\\n\\n## Monthly\\n\\n## August\\n\\n## 2025\\n\\n## Daily\\n\\n## Temperature Graph\\n\\n## Further Ahead\\n\\nFurther Ahead\\n\\n### September 2025 [...] ### October 2025\\n\\n### November 2025\\n\\n## Around the Globe\\n\\nAround the Globe\\n\\n### Hurricane Tracker\\n\\n### Severe Weather\\n\\n### Radar & Maps\\n\\n### News\\n\\n### Video\\n\\n### Winter Center\\n\\nTop Stories\\n\\nWeather Forecasts\\n\\nLabor Day weekend forecast: Heat, storms may disrupt holiday plans\\n\\n58 minutes ago\\n\\nWeather News\\n\\nSpaceX successfully completes 10th Starship test mission\\n\\n6 hours ago\\n\\nWeather News\\n\\nRecord-challenging cool to hit Great Lakes, Northeast\\n\\n1 hour ago\\n\\nWeather News [...] Haboob slams Phoenix, causing damage, airport delays and power outages\\n\\n1 day ago\\n\\nWeather Forecasts\\n\\nOklahoma, Arkansas and Kansas to face swift flooding from heavy rain\\n\\n3 hours ago\\n\\nFeatured Stories\\n\\nWeather News\\n\\nDeer join rabbits, squirrels in viral skin disease outbreak\\n\\n1 day ago\\n\\nSports\\n\\nThe pitcher who was struck by lightning and still finished the game\\n\\n2 days ago\\n\\nWhy are there so many leaves falling? Is this an early autumn?\\n\\nLATEST ENTRY\", \"score\": 0.5501488, \"raw_content\": null}], \"response_time\": 4.39, \"request_id\": \"781ae5c7-7e9e-4fe4-bc88-f40eed522235\"}\n",
            "==================================\u001b[1m Ai Message \u001b[0m==================================\n",
            "\n",
            "Here are reliable SF weather sources from the search:\n",
            "\n",
            "- National Weather Service (NWS) forecast page (near San Francisco Bay Area). Includes hourly/2-day graphs and a point forecast. URL: https://forecast.weather.gov/MapClick.php?lat=37.9036&lon=-122.5436&unit=0&lg=english&FcstType=graphical\n",
            "\n",
            "- NWS point forecast for the SF area (Mill Valley, near SF): Last update shown as 8:52 am PDT Aug 27, 2025. URL: https://forecast.weather.gov/MapClick.php?lat=37.91&lon=-122.53\n",
            "\n",
            "- AccuWeather SF, CA weather page (monthly/daily forecasts, etc.): https://www.accuweather.com/en/us/san-francisco/94103/august-weather/347629\n",
            "\n",
            "Would you like me to pull the current conditions and a 7-day forecast specifically for San Francisco proper (not just near SF), or for a different SF area? I can fetch a live update if you specify “current conditions for San Francisco” or “hourly forecast for SF.”\n"
          ]
        }
      ],
      "source": [
        "for step in agent_executor.stream({\"messages\": [input_message]}, stream_mode=\"values\"):\n",
        "    step[\"messages\"][-1].pretty_print()"
      ]
    },
    {
      "cell_type": "markdown",
      "id": "c72b3043",
      "metadata": {
        "id": "c72b3043"
      },
      "source": [
        "## Streaming tokens\n",
        "\n",
        "In addition to streaming back messages, it is also useful to stream back tokens.\n",
        "We can do this by specifying `stream_mode=\"messages\"`.\n",
        "\n",
        "\n",
        "::: note\n",
        "\n",
        "Below we use `message.text()`, which requires `langchain-core>=0.3.37`.\n",
        "\n",
        ":::"
      ]
    },
    {
      "cell_type": "code",
      "execution_count": 20,
      "id": "63198158-380e-43a3-a2ad-d4288949c1d4",
      "metadata": {
        "id": "63198158-380e-43a3-a2ad-d4288949c1d4",
        "outputId": "a458483d-9a44-49c3-b9c5-cc326c0ea8f5"
      },
      "outputs": [
        {
          "name": "stdout",
          "output_type": "stream",
          "text": [
            "I| found| a| few| weather| sources| from| the| recent| search|.| Do| you| want| current| conditions|,| a| forecast|,| or| both| for| a| specific| SF| location|?| Here| are| the| results| I| found|:\n",
            "\n",
            "|-| National| Weather| Service| Marine| Forecast| for| Central| California| Coast| (|F|Z|US|56| KM|TR|)\n",
            "| | -| Covers| SF| Bay| area| coastal| waters| and| nearby| bays|\n",
            "| | -| Includes| wind|,| fog|,| and| marine| conditions| for| today| and| tonight|\n",
            "| | -| Useful| if| you|’re| boating| or| need| offshore|/|shore|line| conditions|\n",
            "\n",
            "|-| National| Weather| Service|/N|DBC| Coastal| Waters| Forecast|s| for| SF| Bay|\n",
            "| | -| SF| Bay| South| of| the| Bay| Bridge| and| SF| Bay| North| of| the| Bay| Bridge|\n",
            "| | -| Wind| forecasts| and| marine| conditions|\n",
            "\n",
            "|-| Acc|u|Weather| page| for| South| San| Francisco| (|ZIP| |940|80|)\n",
            "| | -| Monthly| forecast| page| (|not| a| current| conditions| page|)\n",
            "\n",
            "|If| you| want|,| I| can| pull| live| current| conditions| and| a| |7|-day| forecast| for|:\n",
            "|-| San| Francisco|,| CA| (|city|)\n",
            "|-| South| San| Francisco|,| CA| (|ZIP| |940|80|)\n",
            "|-| SF| Bay| Area| coastal| waters| (|for| boating|)\n",
            "\n",
            "|Tell| me| which| location| you| prefer| and| whether| you| want| current| conditions|,| a| |7|-day| forecast|,| or| both|.|"
          ]
        }
      ],
      "source": [
        "for step, metadata in agent_executor.stream(\n",
        "    {\"messages\": [input_message]}, stream_mode=\"messages\"\n",
        "):\n",
        "    if metadata[\"langgraph_node\"] == \"agent\" and (text := step.text()):\n",
        "        print(text, end=\"|\")"
      ]
    },
    {
      "cell_type": "markdown",
      "id": "022cbc8a",
      "metadata": {
        "id": "022cbc8a"
      },
      "source": [
        "## Adding in memory\n",
        "\n",
        "As mentioned earlier, this agent is stateless. This means it does not remember previous interactions. To give it memory we need to pass in a checkpointer. When passing in a checkpointer, we also have to pass in a `thread_id` when invoking the agent (so it knows which thread/conversation to resume from)."
      ]
    },
    {
      "cell_type": "code",
      "execution_count": 21,
      "id": "c4073e35",
      "metadata": {
        "id": "c4073e35"
      },
      "outputs": [],
      "source": [
        "from langgraph.checkpoint.memory import MemorySaver\n",
        "\n",
        "memory = MemorySaver()"
      ]
    },
    {
      "cell_type": "code",
      "execution_count": 22,
      "id": "e64a944e-f9ac-43cf-903c-d3d28d765377",
      "metadata": {
        "id": "e64a944e-f9ac-43cf-903c-d3d28d765377"
      },
      "outputs": [],
      "source": [
        "agent_executor = create_react_agent(model, tools, checkpointer=memory)\n",
        "\n",
        "config = {\"configurable\": {\"thread_id\": \"abc123\"}}"
      ]
    },
    {
      "cell_type": "code",
      "execution_count": 23,
      "id": "a13462d0-2d02-4474-921e-15a1ba1fa274",
      "metadata": {
        "id": "a13462d0-2d02-4474-921e-15a1ba1fa274",
        "outputId": "668633a6-9305-4552-84f9-839153a84510"
      },
      "outputs": [
        {
          "name": "stdout",
          "output_type": "stream",
          "text": [
            "================================\u001b[1m Human Message \u001b[0m=================================\n",
            "\n",
            "Hi, I'm Bob!\n",
            "==================================\u001b[1m Ai Message \u001b[0m==================================\n",
            "\n",
            "Hi Bob! Nice to meet you. How can I help today? If you’re not sure, here are a few ideas:\n",
            "- Answer a question or explain something you’re curious about\n",
            "- Help plan a trip, project, or schedule\n",
            "- Debug code or learn a programming concept\n",
            "- Write or summarize documents, emails, or reports\n",
            "- Get quick facts or a deeper dive into a topic\n",
            "\n",
            "Tell me what you’re working on or just say “surprise me,” and we’ll take it from there.\n"
          ]
        }
      ],
      "source": [
        "input_message = {\"role\": \"user\", \"content\": \"Hi, I'm Bob!\"}\n",
        "for step in agent_executor.stream(\n",
        "    {\"messages\": [input_message]}, config, stream_mode=\"values\"\n",
        "):\n",
        "    step[\"messages\"][-1].pretty_print()"
      ]
    },
    {
      "cell_type": "code",
      "execution_count": 24,
      "id": "56d8028b-5dbc-40b2-86f5-ed60631d86a3",
      "metadata": {
        "id": "56d8028b-5dbc-40b2-86f5-ed60631d86a3",
        "outputId": "ed3a7440-d288-4565-9b5b-c0cc01c431d7"
      },
      "outputs": [
        {
          "name": "stdout",
          "output_type": "stream",
          "text": [
            "================================\u001b[1m Human Message \u001b[0m=================================\n",
            "\n",
            "What's my name?\n",
            "==================================\u001b[1m Ai Message \u001b[0m==================================\n",
            "\n",
            "Your name is Bob. Nice to meet you, Bob! Would you like me to call you Bob or a nickname instead, and what would you like help with today?\n"
          ]
        }
      ],
      "source": [
        "input_message = {\"role\": \"user\", \"content\": \"What's my name?\"}\n",
        "for step in agent_executor.stream(\n",
        "    {\"messages\": [input_message]}, config, stream_mode=\"values\"\n",
        "):\n",
        "    step[\"messages\"][-1].pretty_print()"
      ]
    },
    {
      "cell_type": "markdown",
      "id": "bda99754-0a11-4447-b408-e8db8f2e3517",
      "metadata": {
        "id": "bda99754-0a11-4447-b408-e8db8f2e3517"
      },
      "source": [
        "Example [LangSmith trace](https://smith.langchain.com/public/fa73960b-0f7d-4910-b73d-757a12f33b2b/r)"
      ]
    },
    {
      "cell_type": "markdown",
      "id": "ae908088",
      "metadata": {
        "id": "ae908088"
      },
      "source": [
        "If you want to start a new conversation, all you have to do is change the `thread_id` used"
      ]
    },
    {
      "cell_type": "code",
      "execution_count": null,
      "id": "24460239",
      "metadata": {
        "id": "24460239",
        "outputId": "2a24565c-2bd0-4e63-fdd1-3d1e9c0411fb"
      },
      "outputs": [],
      "source": [
        "# highlight-next-line\n",
        "config = {\"configurable\": {\"thread_id\": \"xyz123\"}}\n",
        "\n",
        "input_message = {\"role\": \"user\", \"content\": \"What's my name?\"}\n",
        "for step in agent_executor.stream(\n",
        "    {\"messages\": [input_message]}, config, stream_mode=\"values\"\n",
        "):\n",
        "    step[\"messages\"][-1].pretty_print()"
      ]
    },
    {
      "cell_type": "markdown",
      "id": "c029798f",
      "metadata": {
        "id": "c029798f"
      },
      "source": [
        "## Conclusion\n",
        "\n",
        "That's a wrap! In this quick start we covered how to create a simple agent.\n",
        "We've then shown how to stream back a response - not only with the intermediate steps, but also tokens!\n",
        "We've also added in memory so you can have a conversation with them.\n",
        "Agents are a complex topic with lots to learn!\n",
        "\n",
        "For more information on Agents, please check out the [LangGraph](/docs/concepts/architecture/#langgraph) documentation. This has it's own set of concepts, tutorials, and how-to guides."
      ]
    }
  ],
  "metadata": {
    "colab": {
      "provenance": []
    },
    "kernelspec": {
      "display_name": "Python 3",
      "language": "python",
      "name": "python3"
    },
    "language_info": {
      "codemirror_mode": {
        "name": "ipython",
        "version": 3
      },
      "file_extension": ".py",
      "mimetype": "text/x-python",
      "name": "python",
      "nbconvert_exporter": "python",
      "pygments_lexer": "ipython3",
      "version": "3.13.2"
    }
  },
  "nbformat": 4,
  "nbformat_minor": 5
}
